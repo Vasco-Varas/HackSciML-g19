{
 "cells": [
  {
   "cell_type": "code",
   "execution_count": 1,
   "id": "ca004c85-c8c7-4271-96c1-fb9adae88b63",
   "metadata": {},
   "outputs": [
    {
     "name": "stderr",
     "output_type": "stream",
     "text": [
      "2023-10-02 17:50:14.980846: I tensorflow/core/util/port.cc:111] oneDNN custom operations are on. You may see slightly different numerical results due to floating-point round-off errors from different computation orders. To turn them off, set the environment variable `TF_ENABLE_ONEDNN_OPTS=0`.\n",
      "2023-10-02 17:50:14.999695: E tensorflow/compiler/xla/stream_executor/cuda/cuda_dnn.cc:9342] Unable to register cuDNN factory: Attempting to register factory for plugin cuDNN when one has already been registered\n",
      "2023-10-02 17:50:14.999711: E tensorflow/compiler/xla/stream_executor/cuda/cuda_fft.cc:609] Unable to register cuFFT factory: Attempting to register factory for plugin cuFFT when one has already been registered\n",
      "2023-10-02 17:50:14.999724: E tensorflow/compiler/xla/stream_executor/cuda/cuda_blas.cc:1518] Unable to register cuBLAS factory: Attempting to register factory for plugin cuBLAS when one has already been registered\n",
      "2023-10-02 17:50:15.003839: I tensorflow/core/platform/cpu_feature_guard.cc:182] This TensorFlow binary is optimized to use available CPU instructions in performance-critical operations.\n",
      "To enable the following instructions: AVX2 AVX_VNNI FMA, in other operations, rebuild TensorFlow with the appropriate compiler flags.\n",
      "2023-10-02 17:50:15.326577: W tensorflow/compiler/tf2tensorrt/utils/py_utils.cc:38] TF-TRT Warning: Could not find TensorRT\n",
      "Using backend: tensorflow.compat.v1\n",
      "Other supported backends: tensorflow, pytorch, jax, paddle.\n",
      "paddle supports more examples now and is recommended.\n"
     ]
    },
    {
     "name": "stdout",
     "output_type": "stream",
     "text": [
      "WARNING:tensorflow:From /home/vasco/dev/Python-Projects/HackSciML-g19/venv/lib/python3.10/site-packages/tensorflow/python/compat/v2_compat.py:108: disable_resource_variables (from tensorflow.python.ops.variable_scope) is deprecated and will be removed in a future version.\n",
      "Instructions for updating:\n",
      "non-resource variables are not supported in the long term\n"
     ]
    },
    {
     "name": "stderr",
     "output_type": "stream",
     "text": [
      "2023-10-02 17:50:15.661844: I tensorflow/compiler/xla/stream_executor/cuda/cuda_gpu_executor.cc:894] successful NUMA node read from SysFS had negative value (-1), but there must be at least one NUMA node, so returning NUMA node zero. See more at https://github.com/torvalds/linux/blob/v6.0/Documentation/ABI/testing/sysfs-bus-pci#L344-L355\n",
      "2023-10-02 17:50:15.674875: I tensorflow/compiler/xla/stream_executor/cuda/cuda_gpu_executor.cc:894] successful NUMA node read from SysFS had negative value (-1), but there must be at least one NUMA node, so returning NUMA node zero. See more at https://github.com/torvalds/linux/blob/v6.0/Documentation/ABI/testing/sysfs-bus-pci#L344-L355\n",
      "2023-10-02 17:50:15.674956: I tensorflow/compiler/xla/stream_executor/cuda/cuda_gpu_executor.cc:894] successful NUMA node read from SysFS had negative value (-1), but there must be at least one NUMA node, so returning NUMA node zero. See more at https://github.com/torvalds/linux/blob/v6.0/Documentation/ABI/testing/sysfs-bus-pci#L344-L355\n"
     ]
    },
    {
     "name": "stdout",
     "output_type": "stream",
     "text": [
      "Enable just-in-time compilation with XLA.\n",
      "\n"
     ]
    },
    {
     "name": "stderr",
     "output_type": "stream",
     "text": [
      "2023-10-02 17:50:15.949018: I tensorflow/compiler/xla/stream_executor/cuda/cuda_gpu_executor.cc:894] successful NUMA node read from SysFS had negative value (-1), but there must be at least one NUMA node, so returning NUMA node zero. See more at https://github.com/torvalds/linux/blob/v6.0/Documentation/ABI/testing/sysfs-bus-pci#L344-L355\n",
      "2023-10-02 17:50:15.949119: I tensorflow/compiler/xla/stream_executor/cuda/cuda_gpu_executor.cc:894] successful NUMA node read from SysFS had negative value (-1), but there must be at least one NUMA node, so returning NUMA node zero. See more at https://github.com/torvalds/linux/blob/v6.0/Documentation/ABI/testing/sysfs-bus-pci#L344-L355\n",
      "2023-10-02 17:50:15.949158: I tensorflow/compiler/xla/stream_executor/cuda/cuda_gpu_executor.cc:894] successful NUMA node read from SysFS had negative value (-1), but there must be at least one NUMA node, so returning NUMA node zero. See more at https://github.com/torvalds/linux/blob/v6.0/Documentation/ABI/testing/sysfs-bus-pci#L344-L355\n",
      "2023-10-02 17:50:16.234078: I tensorflow/compiler/xla/stream_executor/cuda/cuda_gpu_executor.cc:894] successful NUMA node read from SysFS had negative value (-1), but there must be at least one NUMA node, so returning NUMA node zero. See more at https://github.com/torvalds/linux/blob/v6.0/Documentation/ABI/testing/sysfs-bus-pci#L344-L355\n",
      "2023-10-02 17:50:16.234154: I tensorflow/compiler/xla/stream_executor/cuda/cuda_gpu_executor.cc:894] successful NUMA node read from SysFS had negative value (-1), but there must be at least one NUMA node, so returning NUMA node zero. See more at https://github.com/torvalds/linux/blob/v6.0/Documentation/ABI/testing/sysfs-bus-pci#L344-L355\n",
      "2023-10-02 17:50:16.234189: W tensorflow/core/common_runtime/gpu/gpu_bfc_allocator.cc:47] Overriding orig_value setting because the TF_FORCE_GPU_ALLOW_GROWTH environment variable is set. Original config value was 0.\n",
      "2023-10-02 17:50:16.234203: I tensorflow/compiler/xla/stream_executor/cuda/cuda_gpu_executor.cc:894] successful NUMA node read from SysFS had negative value (-1), but there must be at least one NUMA node, so returning NUMA node zero. See more at https://github.com/torvalds/linux/blob/v6.0/Documentation/ABI/testing/sysfs-bus-pci#L344-L355\n",
      "2023-10-02 17:50:16.234257: I tensorflow/core/common_runtime/gpu/gpu_device.cc:1886] Created device /job:localhost/replica:0/task:0/device:GPU:0 with 22107 MB memory:  -> device: 0, name: NVIDIA GeForce RTX 4090, pci bus id: 0000:01:00.0, compute capability: 8.9\n"
     ]
    }
   ],
   "source": [
    "import numpy as np\n",
    "import pandas as pd\n",
    "import deepxde as dde\n",
    "from deepxde.backend import tf\n",
    "\n",
    "from tensorflow.compat.v1 import ConfigProto\n",
    "from tensorflow.compat.v1 import InteractiveSession\n",
    "\n",
    "config = ConfigProto()\n",
    "config.graph_options.rewrite_options.disable_meta_optimizer = True\n",
    "session = InteractiveSession(config=config)"
   ]
  },
  {
   "cell_type": "code",
   "execution_count": 10,
   "id": "aab0c0a8-9210-4713-ade0-8d39af7abc52",
   "metadata": {},
   "outputs": [],
   "source": [
    "# Carga de datos\n",
    "xls = pd.ExcelFile(\"datos_cromatografia.xlsx\")\n",
    "sheet_names = xls.sheet_names\n",
    "training_data = xls.parse(sheet_names[0])\n",
    "test_data = xls.parse(sheet_names[1])\n",
    "\n",
    "# Definición de constantes y parámetros\n",
    "epsilon = 0.37\n",
    "u = 5.55  # Convertir a cm/s, si es necesario.\n",
    "L = 5.55\n",
    "T_max = max(training_data[\"min\"].values)  # Suponiendo que \"min\" está en segundos.\n",
    "\n",
    "# Variables entrenables\n",
    "K = tf.Variable(1.0, trainable=True)\n",
    "D_L = tf.Variable(1.0, trainable=True)\n",
    "\n",
    "C_in = 523.23  # mg/L\n",
    "t_p = 1.0  # s\n",
    "\n",
    "def Cp(inputs):\n",
    "    t = inputs[:, 1:2]\n",
    "    condition = tf.less_equal(t, [[t_p]])\n",
    "    return tf.where(condition, C_in * tf.ones_like(t), tf.zeros_like(t))\n"
   ]
  },
  {
   "cell_type": "code",
   "execution_count": 11,
   "id": "c9944ab1-9e8b-455e-be3d-70c44aaea6c3",
   "metadata": {},
   "outputs": [],
   "source": [
    "# Definición de la EDP\n",
    "def pde(inputs, outputs):\n",
    "    z, t = inputs[:, 0:1], inputs[:, 1:2]\n",
    "    C = outputs[:, 0:1]\n",
    "    \n",
    "    # Aquí, definimos la relación entre q y C usando la relación de equilibrio\n",
    "    q = K * C\n",
    "    \n",
    "    # Utiliza la ecuación proporcionada para definir la EDP\n",
    "    dC_dt = dde.grad.jacobian(outputs, inputs, i=0, j=1)\n",
    "    dC_dz = dde.grad.jacobian(outputs, inputs, i=0, j=0)\n",
    "    d2C_dz2 = dde.grad.hessian(outputs, inputs, i=0, j=0)\n",
    "    \n",
    "    return dC_dt + (1 - epsilon) / epsilon * q + u / epsilon * dC_dz - D_L * d2C_dz2\n"
   ]
  },
  {
   "cell_type": "code",
   "execution_count": 12,
   "id": "7c16537c-1737-473d-9a56-239a668212ec",
   "metadata": {},
   "outputs": [],
   "source": [
    "# Definición del dominio y condiciones de frontera\n",
    "geom = dde.geometry.Interval(0, L)\n",
    "timedomain = dde.geometry.TimeDomain(0, T_max)\n",
    "domain = dde.geometry.GeometryXTime(geom, timedomain)\n",
    "\n",
    "bc1 = dde.DirichletBC(\n",
    "    domain, Cp, lambda _, on_boundary: on_boundary, component=0\n",
    ")\n",
    "\n",
    "bc2 = dde.NeumannBC(domain, lambda x: 0, lambda _, on_boundary: on_boundary, component=0)\n",
    "\n",
    "data = dde.data.TimePDE(\n",
    "    domain,\n",
    "    pde,\n",
    "    [bc1, bc2],\n",
    "    num_domain=1200,\n",
    "    num_boundary=120,\n",
    "    num_initial=100,\n",
    "    train_distribution=\"pseudo\",\n",
    ")"
   ]
  },
  {
   "cell_type": "code",
   "execution_count": 13,
   "id": "44fa09c1-fbf6-4b99-9846-14e09cc5bdd7",
   "metadata": {},
   "outputs": [
    {
     "name": "stdout",
     "output_type": "stream",
     "text": [
      "Compiling model...\n",
      "Building feed-forward neural network...\n",
      "'build' took 0.021770 s\n",
      "\n",
      "'compile' took 0.171504 s\n",
      "\n",
      "Warning: epochs is deprecated and will be removed in a future version. Use iterations instead.\n"
     ]
    },
    {
     "name": "stderr",
     "output_type": "stream",
     "text": [
      "/home/vasco/dev/Python-Projects/HackSciML-g19/venv/lib/python3.10/site-packages/deepxde/nn/tensorflow_compat_v1/fnn.py:116: UserWarning: `tf.layers.dense` is deprecated and will be removed in a future version. Please use `tf.keras.layers.Dense` instead.\n",
      "  return tf.layers.dense(\n",
      "2023-10-02 17:58:04.229714: I tensorflow/compiler/xla/stream_executor/cuda/cuda_gpu_executor.cc:894] successful NUMA node read from SysFS had negative value (-1), but there must be at least one NUMA node, so returning NUMA node zero. See more at https://github.com/torvalds/linux/blob/v6.0/Documentation/ABI/testing/sysfs-bus-pci#L344-L355\n",
      "2023-10-02 17:58:04.229825: I tensorflow/compiler/xla/stream_executor/cuda/cuda_gpu_executor.cc:894] successful NUMA node read from SysFS had negative value (-1), but there must be at least one NUMA node, so returning NUMA node zero. See more at https://github.com/torvalds/linux/blob/v6.0/Documentation/ABI/testing/sysfs-bus-pci#L344-L355\n",
      "2023-10-02 17:58:04.229878: I tensorflow/compiler/xla/stream_executor/cuda/cuda_gpu_executor.cc:894] successful NUMA node read from SysFS had negative value (-1), but there must be at least one NUMA node, so returning NUMA node zero. See more at https://github.com/torvalds/linux/blob/v6.0/Documentation/ABI/testing/sysfs-bus-pci#L344-L355\n",
      "2023-10-02 17:58:04.229946: I tensorflow/compiler/xla/stream_executor/cuda/cuda_gpu_executor.cc:894] successful NUMA node read from SysFS had negative value (-1), but there must be at least one NUMA node, so returning NUMA node zero. See more at https://github.com/torvalds/linux/blob/v6.0/Documentation/ABI/testing/sysfs-bus-pci#L344-L355\n",
      "2023-10-02 17:58:04.229989: I tensorflow/compiler/xla/stream_executor/cuda/cuda_gpu_executor.cc:894] successful NUMA node read from SysFS had negative value (-1), but there must be at least one NUMA node, so returning NUMA node zero. See more at https://github.com/torvalds/linux/blob/v6.0/Documentation/ABI/testing/sysfs-bus-pci#L344-L355\n",
      "2023-10-02 17:58:04.230023: I tensorflow/core/common_runtime/gpu/gpu_device.cc:1886] Created device /job:localhost/replica:0/task:0/device:GPU:0 with 22107 MB memory:  -> device: 0, name: NVIDIA GeForce RTX 4090, pci bus id: 0000:01:00.0, compute capability: 8.9\n"
     ]
    },
    {
     "name": "stdout",
     "output_type": "stream",
     "text": [
      "Training model...\n",
      "\n",
      "Step      Train loss                        Test loss                         Test metric\n",
      "0         [3.75e-01, 8.89e+04, 2.37e-03]    [3.75e-01, 8.89e+04, 2.37e-03]    []  \n",
      "1000      [7.03e-08, 6.01e+04, 4.98e-11]    [7.03e-08, 6.01e+04, 4.98e-11]    []  \n",
      "2000      [6.38e-08, 6.01e+04, 1.25e-11]    [6.38e-08, 6.01e+04, 1.25e-11]    []  \n",
      "3000      [1.13e+03, 2.08e+04, 2.51e+02]    [1.13e+03, 2.08e+04, 2.51e+02]    []  \n",
      "4000      [1.61e+03, 3.49e+04, 1.41e+02]    [1.61e+03, 3.49e+04, 1.41e+02]    []  \n",
      "5000      [7.49e+02, 1.17e+04, 1.68e+02]    [7.49e+02, 1.17e+04, 1.68e+02]    []  \n",
      "6000      [8.18e+02, 1.36e+04, 2.69e+02]    [8.18e+02, 1.36e+04, 2.69e+02]    []  \n",
      "7000      [8.60e+02, 1.17e+04, 2.76e+02]    [8.60e+02, 1.17e+04, 2.76e+02]    []  \n",
      "8000      [1.52e+03, 1.03e+04, 2.69e+02]    [1.52e+03, 1.03e+04, 2.69e+02]    []  \n",
      "9000      [1.11e+03, 1.32e+04, 8.46e+02]    [1.11e+03, 1.32e+04, 8.46e+02]    []  \n",
      "10000     [7.15e+02, 1.13e+04, 4.00e+02]    [7.15e+02, 1.13e+04, 4.00e+02]    []  \n",
      "11000     [3.39e+02, 1.13e+04, 5.05e+01]    [3.39e+02, 1.13e+04, 5.05e+01]    []  \n",
      "12000     [2.54e+02, 1.61e+04, 9.28e+01]    [2.54e+02, 1.61e+04, 9.28e+01]    []  \n",
      "13000     [3.07e+02, 1.54e+04, 1.36e+02]    [3.07e+02, 1.54e+04, 1.36e+02]    []  \n",
      "14000     [1.34e+02, 1.34e+04, 1.71e+01]    [1.34e+02, 1.34e+04, 1.71e+01]    []  \n",
      "15000     [1.35e+02, 1.24e+04, 1.96e+01]    [1.35e+02, 1.24e+04, 1.96e+01]    []  \n",
      "\n",
      "Best model at step 11000:\n",
      "  train loss: 1.16e+04\n",
      "  test loss: 1.16e+04\n",
      "  test metric: []\n",
      "\n",
      "'train' took 15.162422 s\n",
      "\n",
      "Compiling model...\n",
      "'compile' took 0.127100 s\n",
      "\n",
      "Training model...\n",
      "\n",
      "Step      Train loss                        Test loss                         Test metric\n",
      "15000     [1.35e+02, 1.24e+04, 1.96e+01]    [1.35e+02, 1.24e+04, 1.96e+01]    []  \n",
      "INFO:tensorflow:Optimization terminated with:\n",
      "  Message: CONVERGENCE: REL_REDUCTION_OF_F_<=_FACTR*EPSMCH\n",
      "  Objective function value: 12548.555664\n",
      "  Number of iterations: 6\n",
      "  Number of functions evaluations: 62\n",
      "15062     [1.31e+02, 1.24e+04, 1.96e+01]    [1.31e+02, 1.24e+04, 1.96e+01]    []  \n",
      "\n",
      "Best model at step 11000:\n",
      "  train loss: 1.16e+04\n",
      "  test loss: 1.16e+04\n",
      "  test metric: []\n",
      "\n",
      "'train' took 0.989241 s\n",
      "\n",
      "K aprendido: 1.0\n",
      "D_L aprendido: 1.0\n"
     ]
    },
    {
     "name": "stderr",
     "output_type": "stream",
     "text": [
      "2023-10-02 17:58:20.659596: I tensorflow/compiler/xla/stream_executor/cuda/cuda_gpu_executor.cc:894] successful NUMA node read from SysFS had negative value (-1), but there must be at least one NUMA node, so returning NUMA node zero. See more at https://github.com/torvalds/linux/blob/v6.0/Documentation/ABI/testing/sysfs-bus-pci#L344-L355\n",
      "2023-10-02 17:58:20.659702: I tensorflow/compiler/xla/stream_executor/cuda/cuda_gpu_executor.cc:894] successful NUMA node read from SysFS had negative value (-1), but there must be at least one NUMA node, so returning NUMA node zero. See more at https://github.com/torvalds/linux/blob/v6.0/Documentation/ABI/testing/sysfs-bus-pci#L344-L355\n",
      "2023-10-02 17:58:20.659751: I tensorflow/compiler/xla/stream_executor/cuda/cuda_gpu_executor.cc:894] successful NUMA node read from SysFS had negative value (-1), but there must be at least one NUMA node, so returning NUMA node zero. See more at https://github.com/torvalds/linux/blob/v6.0/Documentation/ABI/testing/sysfs-bus-pci#L344-L355\n",
      "2023-10-02 17:58:20.659806: I tensorflow/compiler/xla/stream_executor/cuda/cuda_gpu_executor.cc:894] successful NUMA node read from SysFS had negative value (-1), but there must be at least one NUMA node, so returning NUMA node zero. See more at https://github.com/torvalds/linux/blob/v6.0/Documentation/ABI/testing/sysfs-bus-pci#L344-L355\n",
      "2023-10-02 17:58:20.659845: I tensorflow/compiler/xla/stream_executor/cuda/cuda_gpu_executor.cc:894] successful NUMA node read from SysFS had negative value (-1), but there must be at least one NUMA node, so returning NUMA node zero. See more at https://github.com/torvalds/linux/blob/v6.0/Documentation/ABI/testing/sysfs-bus-pci#L344-L355\n",
      "2023-10-02 17:58:20.659877: I tensorflow/core/common_runtime/gpu/gpu_device.cc:1886] Created device /job:localhost/replica:0/task:0/device:GPU:0 with 22107 MB memory:  -> device: 0, name: NVIDIA GeForce RTX 4090, pci bus id: 0000:01:00.0, compute capability: 8.9\n"
     ]
    }
   ],
   "source": [
    "# Define la red neuronal\n",
    "layer_size = [2] + [50] * 3 + [1]\n",
    "activation = \"tanh\"\n",
    "initializer = \"Glorot uniform\"\n",
    "net = dde.maps.FNN(layer_size, activation, initializer)\n",
    "\n",
    "# Modelo\n",
    "model = dde.Model(data, net)\n",
    "\n",
    "# Entrenamiento\n",
    "model.compile(\"adam\", lr=0.01)\n",
    "model.train(epochs=15000)\n",
    "model.compile(\"L-BFGS-B\")\n",
    "early_stopping = dde.callbacks.EarlyStopping(min_delta=1e-6, patience=1000)\n",
    "model.train(callbacks=[early_stopping])\n",
    "\n",
    "# Valores aprendidos de K y D_L\n",
    "with tf.Session() as sess:\n",
    "    sess.run(tf.global_variables_initializer())\n",
    "    K_value = sess.run(K)\n",
    "    D_L_value = sess.run(D_L)\n",
    "\n",
    "print(\"K aprendido:\", K_value)\n",
    "print(\"D_L aprendido:\", D_L_value)\n"
   ]
  },
  {
   "cell_type": "code",
   "execution_count": null,
   "id": "0c5b7c01-03c7-4ba9-a206-106bba125be5",
   "metadata": {},
   "outputs": [],
   "source": []
  }
 ],
 "metadata": {
  "kernelspec": {
   "display_name": "Python 3 (ipykernel)",
   "language": "python",
   "name": "python3"
  },
  "language_info": {
   "codemirror_mode": {
    "name": "ipython",
    "version": 3
   },
   "file_extension": ".py",
   "mimetype": "text/x-python",
   "name": "python",
   "nbconvert_exporter": "python",
   "pygments_lexer": "ipython3",
   "version": "3.10.12"
  }
 },
 "nbformat": 4,
 "nbformat_minor": 5
}
