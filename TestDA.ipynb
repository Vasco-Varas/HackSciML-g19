{
 "cells": [
  {
   "cell_type": "code",
   "execution_count": 1,
   "id": "cd331943-403e-4d43-847a-8302f46490d7",
   "metadata": {},
   "outputs": [
    {
     "data": {
      "text/html": [
       "<div>\n",
       "<style scoped>\n",
       "    .dataframe tbody tr th:only-of-type {\n",
       "        vertical-align: middle;\n",
       "    }\n",
       "\n",
       "    .dataframe tbody tr th {\n",
       "        vertical-align: top;\n",
       "    }\n",
       "\n",
       "    .dataframe thead th {\n",
       "        text-align: right;\n",
       "    }\n",
       "</style>\n",
       "<table border=\"1\" class=\"dataframe\">\n",
       "  <thead>\n",
       "    <tr style=\"text-align: right;\">\n",
       "      <th></th>\n",
       "      <th>min</th>\n",
       "      <th>AU</th>\n",
       "    </tr>\n",
       "  </thead>\n",
       "  <tbody>\n",
       "    <tr>\n",
       "      <th>0</th>\n",
       "      <td>0.000</td>\n",
       "      <td>356.55113</td>\n",
       "    </tr>\n",
       "    <tr>\n",
       "      <th>1</th>\n",
       "      <td>0.005</td>\n",
       "      <td>352.90047</td>\n",
       "    </tr>\n",
       "    <tr>\n",
       "      <th>2</th>\n",
       "      <td>0.010</td>\n",
       "      <td>344.53384</td>\n",
       "    </tr>\n",
       "    <tr>\n",
       "      <th>3</th>\n",
       "      <td>0.015</td>\n",
       "      <td>332.94599</td>\n",
       "    </tr>\n",
       "    <tr>\n",
       "      <th>4</th>\n",
       "      <td>0.020</td>\n",
       "      <td>319.63170</td>\n",
       "    </tr>\n",
       "  </tbody>\n",
       "</table>\n",
       "</div>"
      ],
      "text/plain": [
       "     min         AU\n",
       "0  0.000  356.55113\n",
       "1  0.005  352.90047\n",
       "2  0.010  344.53384\n",
       "3  0.015  332.94599\n",
       "4  0.020  319.63170"
      ]
     },
     "execution_count": 1,
     "metadata": {},
     "output_type": "execute_result"
    }
   ],
   "source": [
    "import pandas as pd\n",
    "\n",
    "# Load the data from the uploaded Excel file\n",
    "data = pd.read_excel(\"datos_cromatografia.xlsx\")\n",
    "data.head()"
   ]
  },
  {
   "cell_type": "code",
   "execution_count": 2,
   "id": "f3c6b797-a2f8-4938-9c07-4cdda92b78b2",
   "metadata": {},
   "outputs": [
    {
     "data": {
      "text/plain": [
       "(     min         AU\n",
       " 0  0.000  356.55113\n",
       " 1  0.005  352.90047\n",
       " 2  0.010  344.53384\n",
       " 3  0.015  332.94599\n",
       " 4  0.020  319.63170,\n",
       "      min         AU\n",
       " 0  0.000  81.401832\n",
       " 1  0.005  81.401832\n",
       " 2  0.010  81.401832\n",
       " 3  0.015  81.401832\n",
       " 4  0.020  81.401832)"
      ]
     },
     "execution_count": 2,
     "metadata": {},
     "output_type": "execute_result"
    }
   ],
   "source": [
    "xls = pd.ExcelFile(\"datos_cromatografia.xlsx\")\n",
    "\n",
    "sheet_names = xls.sheet_names\n",
    "\n",
    "# Load the data from both sheets\n",
    "training_data = xls.parse(sheet_names[0])\n",
    "test_data = xls.parse(sheet_names[1])\n",
    "\n",
    "# Display the first few rows of each dataset for inspection\n",
    "training_data.head(), test_data.head()"
   ]
  },
  {
   "cell_type": "code",
   "execution_count": 3,
   "id": "87f1bd74-1687-45e2-bde5-5e908350bbfb",
   "metadata": {},
   "outputs": [
    {
     "data": {
      "text/plain": [
       "(3756.1747549999995, 2971.8342179419433, 413.9724371939567)"
      ]
     },
     "execution_count": 3,
     "metadata": {},
     "output_type": "execute_result"
    }
   ],
   "source": [
    "from scipy.integrate import trapz\n",
    "\n",
    "# Calculate the area under the curve (AUC) for both datasets using the trapezoidal rule\n",
    "training_auc = trapz(training_data[\"AU\"], training_data[\"min\"])\n",
    "test_auc = trapz(test_data[\"AU\"], test_data[\"min\"])\n",
    "\n",
    "# Given that the AUC is proportional to the concentration of the analyte, \n",
    "# we can determine the concentration of the test chromatogram using the ratio of the AUCs\n",
    "known_concentration = 523.23  # mg/L\n",
    "test_concentration = (test_auc / training_auc) * known_concentration\n",
    "\n",
    "training_auc, test_auc, test_concentration\n"
   ]
  },
  {
   "cell_type": "code",
   "execution_count": 4,
   "id": "92e9c6dc-12a4-4c0b-8f4c-b8f8220b9df9",
   "metadata": {},
   "outputs": [
    {
     "name": "stdout",
     "output_type": "stream",
     "text": [
      "Test Concentration: 413.9724371939567\n"
     ]
    }
   ],
   "source": [
    "print(f\"Test Concentration: {test_concentration}\")"
   ]
  },
  {
   "cell_type": "code",
   "execution_count": null,
   "id": "b92f1d7a-5c5a-4443-b7cd-05757af59b1b",
   "metadata": {},
   "outputs": [],
   "source": []
  }
 ],
 "metadata": {
  "kernelspec": {
   "display_name": "Python 3 (ipykernel)",
   "language": "python",
   "name": "python3"
  },
  "language_info": {
   "codemirror_mode": {
    "name": "ipython",
    "version": 3
   },
   "file_extension": ".py",
   "mimetype": "text/x-python",
   "name": "python",
   "nbconvert_exporter": "python",
   "pygments_lexer": "ipython3",
   "version": "3.10.12"
  }
 },
 "nbformat": 4,
 "nbformat_minor": 5
}
